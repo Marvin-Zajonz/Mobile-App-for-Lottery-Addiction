{
 "cells": [
  {
   "cell_type": "markdown",
   "metadata": {
    "collapsed": true
   },
   "source": [
    "# Mobile App for Lottery Addiction\n",
    "In this project we'll be working for a fictional medical institute that aims to prevent and treat gambling addictions and wants to build an mobile app to help lottery addicts better estimate their chances of winning. This project aims to provide the logical core of the app. Key questions that should be answered by the app should be:\n",
    "- What is the probability of winning the big prize with a single ticket?\n",
    "- What is the probability of winning the big prize if we play 40 different tickets (or any other number)?\n",
    "- What is the probability of having at least five (or four, or three, or two) winning numbers on a single ticket?"
   ]
  },
  {
   "cell_type": "markdown",
   "metadata": {},
   "source": [
    "These questions will be answered for the lottery in the 6/49 format. Furthermore, data coming from the national lottery game in Candada will be included in the considerations. The data set can be found [here](https://www.kaggle.com/datascienceai/lottery-dataset) and contains 3,665 drawings, dating from 1982 to 2018. <br><br>\n",
    "The goal of this project will be to apply statistical methods with a big focus on probability."
   ]
  },
  {
   "cell_type": "markdown",
   "metadata": {},
   "source": [
    "## Core Functions"
   ]
  },
  {
   "cell_type": "markdown",
   "metadata": {},
   "source": [
    "To begin the project, we will write two functions that will be necessary to calculate probabilities. First, we want to create a function that calculates factorials. Second, we want a function that calcluates combinations. <br>\n",
    "Since the 6/49 lottery draws six numbers from a set of 49 numbers without replacement, the formula for this looks as follows:\n",
    "\n",
    "Let's start to code the two functions:"
   ]
  },
  {
   "cell_type": "code",
   "execution_count": 1,
   "metadata": {
    "collapsed": true
   },
   "outputs": [],
   "source": [
    "# Function computing the factorial of a given number (n)\n",
    "def factorial(n):\n",
    "    final_product = 1\n",
    "    for i in range(n, 0, -1):\n",
    "        final_product *= i\n",
    "    return final_product"
   ]
  },
  {
   "cell_type": "code",
   "execution_count": 2,
   "metadata": {
    "collapsed": true
   },
   "outputs": [],
   "source": [
    "# Function calculating the probability of one combination using teh factorial function from above;\n",
    "# n is the range (49), k is the number taken from the range (6)\n",
    "def combinations(n, k):\n",
    "    numerator = factorial(n)\n",
    "    denominator = factorial(k) * factorial(n-k)\n",
    "    return numerator/denominator"
   ]
  },
  {
   "cell_type": "markdown",
   "metadata": {},
   "source": [
    "## One-ticket Probability\n",
    "Next, we want to provide the user of the app the ability to calculate the percentage of success to win the big jackpot (all 6 numbers are drawn) with their ticket. We have to be aware of the following details. This can be achieved with a new function. We have to be aware of the following function details:\n",
    "- The user should be able to input six different numbers from 1 to 49\n",
    "- The six numbers will come as a Python lost\n",
    "- The function should return the probability in a way that is friendly and easy to read for everybody."
   ]
  },
  {
   "cell_type": "code",
   "execution_count": 25,
   "metadata": {},
   "outputs": [],
   "source": [
    "def one_ticket_probability(numbers_list):\n",
    "    n_comb = combinations(49,6) # calculating the number of combinations of the lottery\n",
    "    outcomes = 1 # number of successful outcomes\n",
    "    probability = outcomes/n_comb\n",
    "    percentage = probability * 100\n",
    "    return \"Your chances of winning the big jackpot with your numbers {} are {:.7f}%\" .format(numbers_list, percentage)\n"
   ]
  },
  {
   "cell_type": "code",
   "execution_count": 28,
   "metadata": {},
   "outputs": [
    {
     "data": {
      "text/plain": [
       "'Your chances of winning the big jackpot with your numbers [1, 5, 9, 28, 32, 40] are 0.0000072%'"
      ]
     },
     "execution_count": 28,
     "metadata": {},
     "output_type": "execute_result"
    }
   ],
   "source": [
    "test1 = one_ticket_probability([1,5,9,28,32,40])\n",
    "test1"
   ]
  },
  {
   "cell_type": "code",
   "execution_count": 29,
   "metadata": {},
   "outputs": [
    {
     "data": {
      "text/plain": [
       "'Your chances of winning the big jackpot with your numbers [34, 35, 36, 40, 41, 44] are 0.0000072%'"
      ]
     },
     "execution_count": 29,
     "metadata": {},
     "output_type": "execute_result"
    }
   ],
   "source": [
    "test2 = one_ticket_probability([34,35,36,40,41,44])\n",
    "test2"
   ]
  },
  {
   "cell_type": "markdown",
   "metadata": {},
   "source": [
    "## Historical Data Check for Canada Lottery\n",
    "In addition to the feature above to return the probability of winning the lottery by having the right combinations of six numbers, the app should enable users to determine wether theu would have ever won using the data from the Canadian lottery. Like mentioned earlier, the data set contains 3,665 drawings from between 1982 and 2018. The numbers drawn can be found in the following columns:\n",
    "- NUMBER DRAWN 1\n",
    "- NUMBER DRAWN 2\n",
    "- NUMBER DRAWN 3\n",
    "- NUMBER DRAWN 4\n",
    "- NUMBER DRAWN 5\n",
    "- NUMBER DRAWN 6"
   ]
  },
  {
   "cell_type": "code",
   "execution_count": 31,
   "metadata": {},
   "outputs": [
    {
     "data": {
      "text/plain": [
       "(3665, 11)"
      ]
     },
     "execution_count": 31,
     "metadata": {},
     "output_type": "execute_result"
    }
   ],
   "source": [
    "# Reading in the csv file\n",
    "import pandas as pd\n",
    "lot = pd.read_csv('649.csv')\n",
    "lot.shape"
   ]
  },
  {
   "cell_type": "code",
   "execution_count": 32,
   "metadata": {},
   "outputs": [
    {
     "data": {
      "text/html": [
       "<div>\n",
       "<style scoped>\n",
       "    .dataframe tbody tr th:only-of-type {\n",
       "        vertical-align: middle;\n",
       "    }\n",
       "\n",
       "    .dataframe tbody tr th {\n",
       "        vertical-align: top;\n",
       "    }\n",
       "\n",
       "    .dataframe thead th {\n",
       "        text-align: right;\n",
       "    }\n",
       "</style>\n",
       "<table border=\"1\" class=\"dataframe\">\n",
       "  <thead>\n",
       "    <tr style=\"text-align: right;\">\n",
       "      <th></th>\n",
       "      <th>PRODUCT</th>\n",
       "      <th>DRAW NUMBER</th>\n",
       "      <th>SEQUENCE NUMBER</th>\n",
       "      <th>DRAW DATE</th>\n",
       "      <th>NUMBER DRAWN 1</th>\n",
       "      <th>NUMBER DRAWN 2</th>\n",
       "      <th>NUMBER DRAWN 3</th>\n",
       "      <th>NUMBER DRAWN 4</th>\n",
       "      <th>NUMBER DRAWN 5</th>\n",
       "      <th>NUMBER DRAWN 6</th>\n",
       "      <th>BONUS NUMBER</th>\n",
       "    </tr>\n",
       "  </thead>\n",
       "  <tbody>\n",
       "    <tr>\n",
       "      <th>0</th>\n",
       "      <td>649</td>\n",
       "      <td>1</td>\n",
       "      <td>0</td>\n",
       "      <td>6/12/1982</td>\n",
       "      <td>3</td>\n",
       "      <td>11</td>\n",
       "      <td>12</td>\n",
       "      <td>14</td>\n",
       "      <td>41</td>\n",
       "      <td>43</td>\n",
       "      <td>13</td>\n",
       "    </tr>\n",
       "    <tr>\n",
       "      <th>1</th>\n",
       "      <td>649</td>\n",
       "      <td>2</td>\n",
       "      <td>0</td>\n",
       "      <td>6/19/1982</td>\n",
       "      <td>8</td>\n",
       "      <td>33</td>\n",
       "      <td>36</td>\n",
       "      <td>37</td>\n",
       "      <td>39</td>\n",
       "      <td>41</td>\n",
       "      <td>9</td>\n",
       "    </tr>\n",
       "    <tr>\n",
       "      <th>2</th>\n",
       "      <td>649</td>\n",
       "      <td>3</td>\n",
       "      <td>0</td>\n",
       "      <td>6/26/1982</td>\n",
       "      <td>1</td>\n",
       "      <td>6</td>\n",
       "      <td>23</td>\n",
       "      <td>24</td>\n",
       "      <td>27</td>\n",
       "      <td>39</td>\n",
       "      <td>34</td>\n",
       "    </tr>\n",
       "  </tbody>\n",
       "</table>\n",
       "</div>"
      ],
      "text/plain": [
       "   PRODUCT  DRAW NUMBER  SEQUENCE NUMBER  DRAW DATE  NUMBER DRAWN 1  \\\n",
       "0      649            1                0  6/12/1982               3   \n",
       "1      649            2                0  6/19/1982               8   \n",
       "2      649            3                0  6/26/1982               1   \n",
       "\n",
       "   NUMBER DRAWN 2  NUMBER DRAWN 3  NUMBER DRAWN 4  NUMBER DRAWN 5  \\\n",
       "0              11              12              14              41   \n",
       "1              33              36              37              39   \n",
       "2               6              23              24              27   \n",
       "\n",
       "   NUMBER DRAWN 6  BONUS NUMBER  \n",
       "0              43            13  \n",
       "1              41             9  \n",
       "2              39            34  "
      ]
     },
     "execution_count": 32,
     "metadata": {},
     "output_type": "execute_result"
    }
   ],
   "source": [
    "lot.head(3)"
   ]
  },
  {
   "cell_type": "code",
   "execution_count": 33,
   "metadata": {},
   "outputs": [
    {
     "data": {
      "text/html": [
       "<div>\n",
       "<style scoped>\n",
       "    .dataframe tbody tr th:only-of-type {\n",
       "        vertical-align: middle;\n",
       "    }\n",
       "\n",
       "    .dataframe tbody tr th {\n",
       "        vertical-align: top;\n",
       "    }\n",
       "\n",
       "    .dataframe thead th {\n",
       "        text-align: right;\n",
       "    }\n",
       "</style>\n",
       "<table border=\"1\" class=\"dataframe\">\n",
       "  <thead>\n",
       "    <tr style=\"text-align: right;\">\n",
       "      <th></th>\n",
       "      <th>PRODUCT</th>\n",
       "      <th>DRAW NUMBER</th>\n",
       "      <th>SEQUENCE NUMBER</th>\n",
       "      <th>DRAW DATE</th>\n",
       "      <th>NUMBER DRAWN 1</th>\n",
       "      <th>NUMBER DRAWN 2</th>\n",
       "      <th>NUMBER DRAWN 3</th>\n",
       "      <th>NUMBER DRAWN 4</th>\n",
       "      <th>NUMBER DRAWN 5</th>\n",
       "      <th>NUMBER DRAWN 6</th>\n",
       "      <th>BONUS NUMBER</th>\n",
       "    </tr>\n",
       "  </thead>\n",
       "  <tbody>\n",
       "    <tr>\n",
       "      <th>3662</th>\n",
       "      <td>649</td>\n",
       "      <td>3589</td>\n",
       "      <td>0</td>\n",
       "      <td>6/13/2018</td>\n",
       "      <td>6</td>\n",
       "      <td>22</td>\n",
       "      <td>24</td>\n",
       "      <td>31</td>\n",
       "      <td>32</td>\n",
       "      <td>34</td>\n",
       "      <td>16</td>\n",
       "    </tr>\n",
       "    <tr>\n",
       "      <th>3663</th>\n",
       "      <td>649</td>\n",
       "      <td>3590</td>\n",
       "      <td>0</td>\n",
       "      <td>6/16/2018</td>\n",
       "      <td>2</td>\n",
       "      <td>15</td>\n",
       "      <td>21</td>\n",
       "      <td>31</td>\n",
       "      <td>38</td>\n",
       "      <td>49</td>\n",
       "      <td>8</td>\n",
       "    </tr>\n",
       "    <tr>\n",
       "      <th>3664</th>\n",
       "      <td>649</td>\n",
       "      <td>3591</td>\n",
       "      <td>0</td>\n",
       "      <td>6/20/2018</td>\n",
       "      <td>14</td>\n",
       "      <td>24</td>\n",
       "      <td>31</td>\n",
       "      <td>35</td>\n",
       "      <td>37</td>\n",
       "      <td>48</td>\n",
       "      <td>17</td>\n",
       "    </tr>\n",
       "  </tbody>\n",
       "</table>\n",
       "</div>"
      ],
      "text/plain": [
       "      PRODUCT  DRAW NUMBER  SEQUENCE NUMBER  DRAW DATE  NUMBER DRAWN 1  \\\n",
       "3662      649         3589                0  6/13/2018               6   \n",
       "3663      649         3590                0  6/16/2018               2   \n",
       "3664      649         3591                0  6/20/2018              14   \n",
       "\n",
       "      NUMBER DRAWN 2  NUMBER DRAWN 3  NUMBER DRAWN 4  NUMBER DRAWN 5  \\\n",
       "3662              22              24              31              32   \n",
       "3663              15              21              31              38   \n",
       "3664              24              31              35              37   \n",
       "\n",
       "      NUMBER DRAWN 6  BONUS NUMBER  \n",
       "3662              34            16  \n",
       "3663              49             8  \n",
       "3664              48            17  "
      ]
     },
     "execution_count": 33,
     "metadata": {},
     "output_type": "execute_result"
    }
   ],
   "source": [
    "lot.tail(3)"
   ]
  },
  {
   "cell_type": "markdown",
   "metadata": {},
   "source": [
    "Next, we want to write a function that will show users to compare their ticket to historical data. While writing the function we have to be aware of the following details:\n",
    "- The user has to input 6 numbers between 1 and 49 again\n",
    "- The six numbers will come as a Python list\n",
    "- The function should print the number of times the function appeared in the data set and the probability of winning the big prize at the next drawing"
   ]
  },
  {
   "cell_type": "code",
   "execution_count": 35,
   "metadata": {},
   "outputs": [
    {
     "data": {
      "text/plain": [
       "0    {3, 41, 11, 12, 43, 14}\n",
       "1    {33, 36, 37, 39, 8, 41}\n",
       "2     {1, 6, 39, 23, 24, 27}\n",
       "3     {3, 9, 10, 43, 13, 20}\n",
       "4    {34, 5, 14, 47, 21, 31}\n",
       "dtype: object"
      ]
     },
     "execution_count": 35,
     "metadata": {},
     "output_type": "execute_result"
    }
   ],
   "source": [
    "# Extracting all the winning six numbers from the historical data set as Python sets\n",
    "\n",
    "\n",
    "# Function that takes in a row and returns the numbers as a set\n",
    "def extract_numbers(row):\n",
    "    numbers = row[4:10]\n",
    "    numbers = set(numbers.values)\n",
    "    return numbers\n",
    "\n",
    "# Applying the function to the data set\n",
    "winning_numbers = lot.apply(extract_numbers, axis=1)\n",
    "winning_numbers.head()"
   ]
  },
  {
   "cell_type": "markdown",
   "metadata": {},
   "source": [
    "Next, we need to create a function that takes in two inputs: a Pyhton list containing the user numbers and a pandas Series containing sets with the winning numbers."
   ]
  },
  {
   "cell_type": "code",
   "execution_count": 47,
   "metadata": {},
   "outputs": [],
   "source": [
    "def check_historical_occurence(user_list, historical_numbers):\n",
    "    user_set = set(user_list) # Transforming the list to a set\n",
    "    check_occurence = historical_numbers == user_set # Comparing both sets\n",
    "    nr_occurences = check_occurence.sum() \n",
    "    if nr_occurences == 0:\n",
    "        print(\"The combination {} has never occured before. The chance of winning is 0.0000072%\" .format(user_set))\n",
    "    else:\n",
    "        print(\"The number combination {} has occured {} times before. It is still very unlikely to occur again. The chance of winning is 0000072\" .format(user_set,nr_occurences ))"
   ]
  },
  {
   "cell_type": "code",
   "execution_count": 48,
   "metadata": {},
   "outputs": [
    {
     "name": "stdout",
     "output_type": "stream",
     "text": [
      "The number combination {3, 41, 11, 12, 43, 14} has occured 1 times before. It is still very unlikely to occur again. The chance of winning is 0000072\n"
     ]
    }
   ],
   "source": [
    "test3 = check_historical_occurence([3, 41, 11, 12, 43, 14], winning_numbers)\n",
    "test3"
   ]
  },
  {
   "cell_type": "code",
   "execution_count": 49,
   "metadata": {},
   "outputs": [
    {
     "name": "stdout",
     "output_type": "stream",
     "text": [
      "The combination {33, 2, 34, 42, 15, 21} has never occured before. The chance of winning is 0.0000072%\n"
     ]
    }
   ],
   "source": [
    "test4 = check_historical_occurence([2, 15, 21, 33, 34, 42], winning_numbers)\n",
    "test4"
   ]
  },
  {
   "cell_type": "markdown",
   "metadata": {},
   "source": [
    "## Multi-ticket Probability\n",
    "Some people do not only play one ticket but play multiple because they think it might change their chances of winning drastically. The next function should give them a better understanding about how minimal the effect of multiple tickets is on the winning percentage. This function should:\n",
    "- Give the user the ability to insert the number of different tickest (a number between 1 and 13,983,816, which is the maximum number of tickets)\n",
    "- Return the probability of winning the jackpot"
   ]
  },
  {
   "cell_type": "code",
   "execution_count": 52,
   "metadata": {
    "collapsed": true
   },
   "outputs": [],
   "source": [
    "def multi_ticket_probability(number_of_tickets):\n",
    "    number_of_tickets = number_of_tickets\n",
    "    combinations_number = combinations(49,6)\n",
    "    outcomes = number_of_tickets\n",
    "    percentage = outcomes/combinations_number*100\n",
    "    print(\"With a number of {} you have a {:.6f} percentage chance of winning the lottery\".format(number_of_tickets, percentage))\n",
    "    "
   ]
  },
  {
   "cell_type": "code",
   "execution_count": 54,
   "metadata": {},
   "outputs": [
    {
     "name": "stdout",
     "output_type": "stream",
     "text": [
      "With a number of 12 you have a 0.000086 percentage chance of winning the lottery\n"
     ]
    }
   ],
   "source": [
    "test5 = multi_ticket_probability(12)"
   ]
  },
  {
   "cell_type": "code",
   "execution_count": 55,
   "metadata": {},
   "outputs": [
    {
     "name": "stdout",
     "output_type": "stream",
     "text": [
      "With a number of 1 you have a 0.000007 percentage chance of winning the lottery\n",
      "With a number of 10 you have a 0.000072 percentage chance of winning the lottery\n",
      "With a number of 100 you have a 0.000715 percentage chance of winning the lottery\n",
      "With a number of 1000 you have a 0.007151 percentage chance of winning the lottery\n",
      "With a number of 100000 you have a 0.715112 percentage chance of winning the lottery\n",
      "With a number of 6991908 you have a 50.000000 percentage chance of winning the lottery\n",
      "With a number of 13983816 you have a 100.000000 percentage chance of winning the lottery\n"
     ]
    }
   ],
   "source": [
    "test_1 = multi_ticket_probability(1)\n",
    "test_10 = multi_ticket_probability(10)\n",
    "test_100 = multi_ticket_probability(100)\n",
    "test_1000 = multi_ticket_probability(1000)\n",
    "test_100000 = multi_ticket_probability(100000)\n",
    "test_6991908 = multi_ticket_probability(6991908)\n",
    "test_13983816 = multi_ticket_probability(13983816)\n"
   ]
  },
  {
   "cell_type": "markdown",
   "metadata": {},
   "source": [
    "## Less Winning Numbers - Function\n",
    "In the last function we are going to create, we want the users to be able to calculate the percentage to win a prize for two right numbers, three right numbers, etc. Often there are smaller prizes if some numbers match the winning numbers. This function will:\n",
    "- allow the user to input an integer between 2 and 5 that represents the number of winning numbers expected\n",
    "- return the percentage"
   ]
  },
  {
   "cell_type": "code",
   "execution_count": 57,
   "metadata": {},
   "outputs": [],
   "source": [
    "def probability_less_6(n):\n",
    "    n=n\n",
    "    n_combinations = combinations(6, n)\n",
    "    n_combinations_rest = combinations(43, 6-n)\n",
    "    wins = n_combinations * n_combinations_rest\n",
    "    n_total_comb = combinations(49,6)\n",
    "    probability = wins/n_total_comb\n",
    "    percentage = probability*100\n",
    "    print(\"You have a {:.6f} percent chance to match exactly {} numbers\".format(percentage, n))"
   ]
  },
  {
   "cell_type": "code",
   "execution_count": 59,
   "metadata": {},
   "outputs": [
    {
     "name": "stdout",
     "output_type": "stream",
     "text": [
      "You have a 13.237803 percent chance to match exactly 2 numbers\n",
      "You have a 1.765040 percent chance to match exactly 3 numbers\n",
      "You have a 0.096862 percent chance to match exactly 4 numbers\n",
      "You have a 0.001845 percent chance to match exactly 5 numbers\n"
     ]
    }
   ],
   "source": [
    "test_2n = probability_less_6(2)\n",
    "test_3n = probability_less_6(3)\n",
    "test_4n = probability_less_6(4)\n",
    "test_5n = probability_less_6(5)"
   ]
  },
  {
   "cell_type": "markdown",
   "metadata": {
    "collapsed": true
   },
   "source": [
    "#### Next steps\n",
    "There are different possible features that could be included in the next version of the app:\n",
    "- Making the outputs even easier to understand by adding fun analogies\n",
    "- Combining the output information of one_ticket_probability() and check_historical_occurrence()\n",
    "- Creating a function similar to probability_less_6() which calculates the probability of having at least, two, three, four or five winning numbers."
   ]
  },
  {
   "cell_type": "markdown",
   "metadata": {},
   "source": [
    "## Conclusion\n",
    "In this project we were able to build a mobile app that help lottery addicts to get a better understanding of the winning chances of playing the lottery. We were using probabilistic methods and theories like factorials, events, and outcomes to generate the probabilities. Furthermore, we were using a data set that includes the winning numbers of over 30 years of the Candian lottery to demonstrate the low chances of winning the lottery. "
   ]
  },
  {
   "cell_type": "code",
   "execution_count": null,
   "metadata": {},
   "outputs": [],
   "source": []
  }
 ],
 "metadata": {
  "kernelspec": {
   "display_name": "Python 3",
   "language": "python",
   "name": "python3"
  },
  "language_info": {
   "codemirror_mode": {
    "name": "ipython",
    "version": 3
   },
   "file_extension": ".py",
   "mimetype": "text/x-python",
   "name": "python",
   "nbconvert_exporter": "python",
   "pygments_lexer": "ipython3",
   "version": "3.7.3"
  }
 },
 "nbformat": 4,
 "nbformat_minor": 2
}
